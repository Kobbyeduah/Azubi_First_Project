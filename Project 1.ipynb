{
 "cells": [
  {
   "cell_type": "code",
   "execution_count": 9,
   "id": "bcb0483d",
   "metadata": {},
   "outputs": [
    {
     "name": "stdout",
     "output_type": "stream",
     "text": [
      "Total Price Average : 33.33\n"
     ]
    }
   ],
   "source": [
    "\n",
    "\n",
    "products = [\"Sankofa Foods\", \"Jamestown Coffee\", \"Bioko Chocolate\", \"Blue Skies Ice Cream\", \"Fair Afric Chocolate\", \"Kawa Moka Coffee\", \"Aphro Spirit\", \"Mensado Bissap\", \"Voltic\"]\n",
    "\n",
    "prices = [30, 25, 40, 20, 20, 35, 45, 50, 35]\n",
    "\n",
    "last_week = [2, 3, 5, 8, 4, 4, 6, 2, 9]\n",
    "\n",
    "# Question1 \n",
    "\n",
    "# Total Price Avaerage of all the product \n",
    "\n",
    "prices = [30, 25, 40, 20, 20, 35, 45, 50, 35]\n",
    "\n",
    "Total_Price_Average = sum(prices) / len(prices)\n",
    "\n",
    "print(\"Total Price Average :\", round(Total_Price_Average, 2))\n"
   ]
  },
  {
   "cell_type": "code",
   "execution_count": 10,
   "id": "b16d1ac2",
   "metadata": {},
   "outputs": [
    {
     "name": "stdout",
     "output_type": "stream",
     "text": [
      "[25, 20, 35, 15, 15, 30, 40, 45, 30]\n"
     ]
    }
   ],
   "source": [
    "# Create a new price list that reduces the old price by GHC5\n",
    "\n",
    "# Question2\n",
    "\n",
    "New_price = [30, 25, 40, 20, 20, 35, 45, 50, 35]\n",
    "\n",
    "\n",
    "new_list = []\n",
    "# Loop statement to substract 5 from the old price \n",
    "for item in New_price:\n",
    "    new_list.append(item - 5)\n",
    "\n",
    "#New price \n",
    "\n",
    "print(new_list)\n"
   ]
  },
  {
   "cell_type": "code",
   "execution_count": 13,
   "id": "3b005ffe",
   "metadata": {},
   "outputs": [
    {
     "name": "stdout",
     "output_type": "stream",
     "text": [
      "Total Revenue Generated is: GHC 1400\n"
     ]
    }
   ],
   "source": [
    "# Calculate the total revenue generated from the product \n",
    "\n",
    "\n",
    "# Question 3\n",
    "\n",
    "total_revenue = sum(price * last_week[i] for i, \n",
    "                   price in enumerate(New_price))\n",
    "print(\"Total Revenue Generated is: GHC\", total_revenue)"
   ]
  },
  {
   "cell_type": "code",
   "execution_count": 14,
   "id": "ca200afe",
   "metadata": {},
   "outputs": [
    {
     "name": "stdout",
     "output_type": "stream",
     "text": [
      "Average daily revenue is : GHC 200.0\n"
     ]
    }
   ],
   "source": [
    "# Calculate the daily revenue generated from the product \n",
    "\n",
    "# Question 4\n",
    "\n",
    "average_daily_revenue = total_revenue / 7\n",
    "print(\"Average daily revenue is : GHC\", average_daily_revenue )"
   ]
  },
  {
   "cell_type": "code",
   "execution_count": 15,
   "id": "4757c9e6",
   "metadata": {},
   "outputs": [
    {
     "name": "stdout",
     "output_type": "stream",
     "text": [
      "Product less than GHC30:  ['Sankofa Foods', 'Jamestown Coffee', 'Blue Skies Ice Cream', 'Fair Afric Chocolate']\n"
     ]
    }
   ],
   "source": [
    "# Determine which products are less than GHC30 base on the new price \n",
    "\n",
    "# Question 5\n",
    "\n",
    "\n",
    "less_expensive_product = [product for price, product in zip (new_list, products) if price < 30]\n",
    "print(\"Product less than GHC30: \", less_expensive_product)"
   ]
  },
  {
   "cell_type": "code",
   "execution_count": null,
   "id": "209d471b",
   "metadata": {},
   "outputs": [],
   "source": []
  }
 ],
 "metadata": {
  "kernelspec": {
   "display_name": "Python 3 (ipykernel)",
   "language": "python",
   "name": "python3"
  },
  "language_info": {
   "codemirror_mode": {
    "name": "ipython",
    "version": 3
   },
   "file_extension": ".py",
   "mimetype": "text/x-python",
   "name": "python",
   "nbconvert_exporter": "python",
   "pygments_lexer": "ipython3",
   "version": "3.9.12"
  }
 },
 "nbformat": 4,
 "nbformat_minor": 5
}
